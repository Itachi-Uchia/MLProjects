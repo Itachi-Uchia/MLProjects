{
 "cells": [
  {
   "cell_type": "code",
   "execution_count": 27,
   "metadata": {},
   "outputs": [],
   "source": [
    "import pandas as pd\n",
    "import numpy as np\n",
    "import matplotlib.pyplot as plt\n",
    "import os\n",
    "import seaborn as sns\n",
    "%matplotlib inline"
   ]
  },
  {
   "cell_type": "code",
   "execution_count": 31,
   "metadata": {},
   "outputs": [],
   "source": [
    "#importing datasets\n",
    "companies = pd.read_csv(\"1000_Companies.csv\")\n",
    "X = companies.iloc[:, :-1].values\n",
    "y = companies.iloc[:, 4].values"
   ]
  },
  {
   "cell_type": "code",
   "execution_count": 29,
   "metadata": {},
   "outputs": [
    {
     "data": {
      "text/plain": [
       "<matplotlib.axes._subplots.AxesSubplot at 0x7f9b5d163b10>"
      ]
     },
     "execution_count": 29,
     "metadata": {},
     "output_type": "execute_result"
    },
    {
     "data": {
      "image/png": "[encoded data removed]",
      "text/plain": [
       "<Figure size 432x288 with 2 Axes>"
      ]
     },
     "metadata": {
      "needs_background": "light"
     },
     "output_type": "display_data"
    }
   ],
   "source": [
    "sns.heatmap(companies.corr())"
   ]
  },
  {
   "cell_type": "code",
   "execution_count": 38,
   "metadata": {},
   "outputs": [
    {
     "name": "stderr",
     "output_type": "stream",
     "text": [
      "/home/marish/Downloads/u/lib/python3.7/site-packages/sklearn/preprocessing/_encoders.py:415: FutureWarning: The handling of integer data will change in version 0.22. Currently, the categories are determined based on the range [0, max(values)], while in the future they will be determined based on the unique values.\n",
      "If you want the future behaviour and silence this warning, you can specify \"categories='auto'\".\n",
      "In case you used a LabelEncoder before this OneHotEncoder to convert the categories to integers, then you can now use the OneHotEncoder directly.\n",
      "  warnings.warn(msg, FutureWarning)\n",
      "/home/marish/Downloads/u/lib/python3.7/site-packages/sklearn/preprocessing/_encoders.py:451: DeprecationWarning: The 'categorical_features' keyword is deprecated in version 0.20 and will be removed in 0.22. You can use the ColumnTransformer instead.\n",
      "  \"use the ColumnTransformer instead.\", DeprecationWarning)\n"
     ]
    }
   ],
   "source": [
    "# Encoding categorical data\n",
    "# Encoding the Independent Variable\n",
    "from sklearn.preprocessing import LabelEncoder, OneHotEncoder\n",
    "labelencoder_X = LabelEncoder()\n",
    "X[:, 3] = labelencoder_X.fit_transform(X[:, 3])\n",
    "onehotencoder = OneHotEncoder( categorical_features = [3])\n",
    "X = onehotencoder.fit_transform(X).toarray()\n",
    "\n",
    "#Avoiding dummy variable trap\n",
    "X = X[:, 1:]"
   ]
  },
  {
   "cell_type": "code",
   "execution_count": 47,
   "metadata": {},
   "outputs": [],
   "source": [
    "#spliting data into train and test set\n",
    "from sklearn.model_selection import train_test_split\n",
    "X_train, X_test, y_train, y_test = train_test_split(X, y, test_size = 0.2, random_state = 0)"
   ]
  },
  {
   "cell_type": "code",
   "execution_count": 48,
   "metadata": {},
   "outputs": [
    {
     "data": {
      "text/plain": [
       "LinearRegression(copy_X=True, fit_intercept=True, n_jobs=None, normalize=False)"
      ]
     },
     "execution_count": 48,
     "metadata": {},
     "output_type": "execute_result"
    }
   ],
   "source": [
    "#fitting data set into linear regression model\n",
    "from sklearn.linear_model import LinearRegression\n",
    "regressor = LinearRegression()\n",
    "regressor.fit(X_train, y_train)"
   ]
  },
  {
   "cell_type": "code",
   "execution_count": 49,
   "metadata": {},
   "outputs": [],
   "source": [
    "#predicting the result\n",
    "y_pred = regressor.predict(X_test)"
   ]
  },
  {
   "cell_type": "code",
   "execution_count": 55,
   "metadata": {},
   "outputs": [
    {
     "name": "stdout",
     "output_type": "stream",
     "text": [
      "[-2.42938803e+03 -6.18428506e+04  6.18428506e+04 ...  1.94874911e+02\n",
      "  2.12478509e+00  2.50355772e-01]\n"
     ]
    }
   ],
   "source": [
    "#calulate coeffecients\n",
    "print(regressor.coef_)"
   ]
  },
  {
   "cell_type": "code",
   "execution_count": 56,
   "metadata": {},
   "outputs": [
    {
     "name": "stdout",
     "output_type": "stream",
     "text": [
      "-138736.77677663506\n"
     ]
    }
   ],
   "source": [
    "#calulate intercepts\n",
    "print(regressor.intercept_)"
   ]
  },
  {
   "cell_type": "code",
   "execution_count": 50,
   "metadata": {},
   "outputs": [
    {
     "data": {
      "text/plain": [
       "93.49837202213912"
      ]
     },
     "execution_count": 50,
     "metadata": {},
     "output_type": "execute_result"
    }
   ],
   "source": [
    "from sklearn.metrics import r2_score\n",
    "r2_score(y_test, y_pred) * 100\n"
   ]
  },
  {
   "cell_type": "code",
   "execution_count": 54,
   "metadata": {},
   "outputs": [
    {
     "data": {
      "text/plain": [
       "array([ 91001.99346082,  89735.78268068,  95741.71716536, 171496.1048004 ,\n",
       "        85977.69852295, 111199.11717229, 162150.92950328,  92564.63604713,\n",
       "       161367.83439638,  57779.38930603,  69791.96857406, 148174.40063573,\n",
       "       125476.55130315,  62723.02272909, 172463.40624332,  78460.12066644,\n",
       "       118163.05612141, 160447.55305062, 198560.04280076, 177592.70274833,\n",
       "       148589.34056162,  87175.47140591, 176428.6687356 ,  85759.45092563,\n",
       "       105131.11974126, 101628.12260433,  66319.8229253 ,  61341.17545805,\n",
       "        71599.24731097, 234571.12100805, 120512.99641178, 111370.53407208,\n",
       "       102763.55631255, 136466.93223296,  67024.47340891, 108708.22453022,\n",
       "       181256.66522706, 167560.41266114, 170533.49769506, 117627.56598494,\n",
       "        98346.56084543, 161262.74091972, 107655.57232851,  54967.27006285,\n",
       "       116552.60186385,  62068.00374934, 155464.07667891,  81290.74613005,\n",
       "       156681.67887059, 130132.69147783, 180039.24174791, 170500.8265764 ,\n",
       "        94674.72156657,  81269.05236518, 180590.88530322,  86788.28396369,\n",
       "       141056.04955802, 166959.40176244,  86863.0101951 , 106310.38065997,\n",
       "       139903.78979106,  57297.90724092, 139338.72930148, 137761.6513579 ,\n",
       "        98898.87680285, 113834.5121537 , 126226.30457552, 149795.83224687,\n",
       "        63182.71910019, 170200.41028336, 123348.93500516, 164618.31882066,\n",
       "        93119.33736283, 153542.66840424,  85910.0575187 ,  80838.74803982,\n",
       "       120174.33094239,  95234.82217743, 136717.85647986, 140974.68307277,\n",
       "       167287.08966617, 137704.36931474, 107296.89328119, 152152.23958443,\n",
       "       138554.52707004, 110828.5772885 ,  72320.40564794,  90376.36631896,\n",
       "       137751.38409314, 146400.41140952, 155164.278753  ,  61975.56799636,\n",
       "        95538.42585189, 112961.15344004,  61039.16537023, 108267.46888389,\n",
       "       145190.15953555, 149803.80095628, 164349.68481974, 117894.42767631,\n",
       "       120498.65296453, 137461.41356488, 154803.301151  , 121611.8664752 ,\n",
       "        89394.63462545, 105668.28982779,  97050.0694112 , 174175.76664623,\n",
       "       176576.00116858, 110511.42687147, 161078.66629118, 163448.52803732,\n",
       "       155243.96465031, 170826.56367056, 165668.58032055,  56189.56682052,\n",
       "       171928.7132117 , 104895.24900582,  84427.1008039 , 137496.2968602 ,\n",
       "       142331.8224067 , 158493.73877316, 165906.92811098, 120208.59587031,\n",
       "       155895.17787152, 109967.26346739, 166082.85547969,  64044.21676723,\n",
       "       155305.41497323, 154499.78941083, 170574.75591559, 153658.21320156,\n",
       "       103931.84522078,  88043.15993985, 139116.40533409, 162594.20221502,\n",
       "       120887.52078174, 196054.62796477, 101687.17693154,  84592.93432673,\n",
       "       173512.07417125, 102145.28485653,  73994.51663643,  92327.87672287,\n",
       "        65395.59953581,  72513.15373131,  75936.64325889, 171906.40105446,\n",
       "        91657.09902123, 189633.81908127,  94413.43812009,  70239.02850791,\n",
       "       168119.72196091,  64167.73006975, 165306.89239208, 162189.48910002,\n",
       "       161972.82975617, 103233.0854194 , 177152.03903654,  76797.25212231,\n",
       "        92373.38962658, 133719.27217008,  68808.55118688,  75172.27591713,\n",
       "        64797.95450854, 179489.40816407, 172058.68802231, 156084.65203306,\n",
       "       139788.86338571, 152094.77372261,  62890.27130414,  92505.75511399,\n",
       "       150492.28796222, 164733.15307903,  75831.27913536, 116135.04720163,\n",
       "        82726.68806596, 147653.87231388, 116989.1026144 , 128518.96303562,\n",
       "       170431.49966553, 451699.2613934 , 143450.52733475, 148413.280015  ,\n",
       "        88316.66145989,  73328.52010056,  73448.84603876,  71726.74485411,\n",
       "       120573.37922093,  91796.37102233, 163271.71184208, 124176.07564543,\n",
       "        70932.18342344, 104973.87833068, 117703.18125542, 161676.31133344,\n",
       "       164972.21119594, 144136.62387585, 139823.12828859, 109819.75229709])"
      ]
     },
     "execution_count": 54,
     "metadata": {},
     "output_type": "execute_result"
    }
   ],
   "source": []
  },
  {
   "cell_type": "code",
   "execution_count": null,
   "metadata": {},
   "outputs": [],
   "source": []
  }
 ],
 "metadata": {
  "kernelspec": {
   "display_name": "Python 3",
   "language": "python",
   "name": "python3"
  },
  "language_info": {
   "codemirror_mode": {
    "name": "ipython",
    "version": 3
   },
   "file_extension": ".py",
   "mimetype": "text/x-python",
   "name": "python",
   "nbconvert_exporter": "python",
   "pygments_lexer": "ipython3",
   "version": "3.7.4"
  }
 },
 "nbformat": 4,
 "nbformat_minor": 2
}
